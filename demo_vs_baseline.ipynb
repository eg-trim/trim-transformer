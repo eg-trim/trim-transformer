{
 "cells": [
  {
   "cell_type": "code",
   "execution_count": 1,
   "metadata": {},
   "outputs": [
    {
     "name": "stdout",
     "output_type": "stream",
     "text": [
      "Using device: cuda\n"
     ]
    }
   ],
   "source": [
    "import time, math, gc, random\n",
    "import pandas as pd\n",
    "\n",
    "import numpy as np\n",
    "import torch\n",
    "import torch.nn as nn\n",
    "from torch.utils.data import Dataset, DataLoader, random_split\n",
    "from scipy.io import loadmat\n",
    "from mat73 import loadmat as loadmat73\n",
    "from trim_transformer.transformer_layers import CumulativeTransformerEncoderLayerKV, CumulativeTransformerEncoderKV\n",
    "from torchvision.ops import MLP\n",
    "\n",
    "\n",
    "seed = 42\n",
    "random.seed(seed)\n",
    "np.random.seed(seed)\n",
    "torch.manual_seed(seed)\n",
    "if torch.cuda.is_available():\n",
    "    torch.cuda.manual_seed_all(seed)\n",
    "\n",
    "device = torch.device(\"cuda\" if torch.cuda.is_available() else \"cpu\")\n",
    "print(f\"Using device: {device}\")"
   ]
  },
  {
   "cell_type": "code",
   "execution_count": 2,
   "metadata": {},
   "outputs": [
    {
     "name": "stdout",
     "output_type": "stream",
     "text": [
      "Train/Val samples: 4000 / 1000\n"
     ]
    }
   ],
   "source": [
    "DATA_PATH = \"./NS_data.mat\"\n",
    "data_dict = loadmat73(DATA_PATH)\n",
    "u = torch.tensor(data_dict[\"u\"]).to(device)  # (N, Nx, Ny, T)\n",
    "a = torch.tensor(data_dict[\"a\"]).to(device)  # (N, Nx, Ny)\n",
    "\n",
    "class TokensDataset(Dataset):\n",
    "    def __init__(self, u, a, n_timesteps=None):\n",
    "        N, Nx, Ny, T = u.shape\n",
    "        u = u.permute(0, 3, 1, 2)\n",
    "        a = a.unsqueeze(1)\n",
    "        if n_timesteps is not None and n_timesteps < T:\n",
    "            idx = np.linspace(0, u.shape[1] - 1, num=n_timesteps, dtype=int)\n",
    "            u = u[:, idx]\n",
    "        else:\n",
    "            n_timesteps = T\n",
    "        self.data = torch.cat([a, u], dim=1).reshape(N, n_timesteps+1, Nx, Ny, 1)\n",
    "\n",
    "    def __len__(self):\n",
    "        return self.data.shape[0]\n",
    "\n",
    "    def __getitem__(self, idx):\n",
    "        return self.data[idx]\n",
    "\n",
    "N_TIMESTEPS = 5\n",
    "full_ds = TokensDataset(u, a, n_timesteps=N_TIMESTEPS)\n",
    "train_size = int(0.8 * len(full_ds))\n",
    "val_size = len(full_ds) - train_size\n",
    "train_ds, val_ds = random_split(full_ds, [train_size, val_size])\n",
    "\n",
    "BATCH_SIZE = 8\n",
    "train_loader = DataLoader(train_ds, batch_size=BATCH_SIZE, shuffle=True)\n",
    "val_loader   = DataLoader(val_ds,   batch_size=BATCH_SIZE, shuffle=False)\n",
    "print(f\"Train/Val samples: {len(train_ds)} / {len(val_ds)}\")\n",
    "\n",
    "N, Nx, Ny, T = u.shape\n",
    "Q = 1\n",
    "X_COMPRESSION = 4\n",
    "Y_COMPRESSION = 4\n",
    "Nx_ = Nx // X_COMPRESSION\n",
    "Ny_ = Ny // Y_COMPRESSION\n",
    "n_tokens = N_TIMESTEPS * Nx_ * Ny_  \n",
    "block_size = Nx_ * Ny_"
   ]
  },
  {
   "cell_type": "code",
   "execution_count": 3,
   "metadata": {},
   "outputs": [],
   "source": [
    "def make_block_mask_after(n_tokens, block_size):\n",
    "    idx = torch.arange(n_tokens, dtype=torch.long)\n",
    "    mask_after = block_size * ((idx // block_size) + 1)-1\n",
    "    return mask_after\n",
    "\n",
    "def mask_after_to_dense_mask(mask_after):\n",
    "    n_tokens = mask_after.shape[0]\n",
    "    col_indices = torch.arange(n_tokens)\n",
    "    return (col_indices > mask_after.unsqueeze(1))\n",
    "\n",
    "mask_after = make_block_mask_after(n_tokens, block_size)\n",
    "dense_mask = mask_after_to_dense_mask(mask_after)\n",
    "mask_after = mask_after.to(device)\n",
    "dense_mask = dense_mask.to(device)"
   ]
  },
  {
   "cell_type": "code",
   "execution_count": 4,
   "metadata": {},
   "outputs": [
    {
     "name": "stdout",
     "output_type": "stream",
     "text": [
      "tensor([1, 1, 3, 3, 5, 5, 7, 7, 9, 9])\n",
      "tensor([[False, False,  True,  True,  True,  True,  True,  True,  True,  True],\n",
      "        [False, False,  True,  True,  True,  True,  True,  True,  True,  True],\n",
      "        [False, False, False, False,  True,  True,  True,  True,  True,  True],\n",
      "        [False, False, False, False,  True,  True,  True,  True,  True,  True],\n",
      "        [False, False, False, False, False, False,  True,  True,  True,  True],\n",
      "        [False, False, False, False, False, False,  True,  True,  True,  True],\n",
      "        [False, False, False, False, False, False, False, False,  True,  True],\n",
      "        [False, False, False, False, False, False, False, False,  True,  True],\n",
      "        [False, False, False, False, False, False, False, False, False, False],\n",
      "        [False, False, False, False, False, False, False, False, False, False]])\n"
     ]
    }
   ],
   "source": [
    "a = make_block_mask_after(10, 2)\n",
    "b = mask_after_to_dense_mask(a)\n",
    "print(a)\n",
    "print(b)"
   ]
  },
  {
   "cell_type": "code",
   "execution_count": 5,
   "metadata": {},
   "outputs": [],
   "source": [
    "EMBED_DIM = 64\n",
    "NUM_HEADS = 4\n",
    "NUM_LAYERS = 4\n",
    "DROPOUT = 0.1\n",
    "DIM_FEEDFORWARD = 256"
   ]
  },
  {
   "cell_type": "code",
   "execution_count": 6,
   "metadata": {},
   "outputs": [],
   "source": [
    "# We use the encoder/decoder from https://arxiv.org/abs/2209.15190 for this dataset.\n",
    "class SingleConvNeuralNet(nn.Module):\n",
    "    def __init__(self, dim, hidden_dim=32, out_dim=32,hidden_ff=64,K=[4,4],S=[4,4]):\n",
    "        super(SingleConvNeuralNet, self).__init__()\n",
    "        self.conv_layer1 = nn.Conv2d(dim, hidden_dim,\n",
    "                                     kernel_size=K,\n",
    "                                     stride=S)\n",
    "\n",
    "        self.fc1 = nn.Linear(hidden_dim, hidden_ff)\n",
    "        self.relu2 = nn.ReLU()\n",
    "        self.fc2 = nn.Linear(hidden_ff, out_dim)\n",
    "\n",
    "    def forward(self, x):\n",
    "        B, T, H, W, Q = x.shape\n",
    "\n",
    "        out = x.permute(0, 1, 4, 2, 3).reshape(B * T, Q, H, W)  # (B*T, Q, H, W)\n",
    "        out = self.conv_layer1(out)  # (B*T, hidden_dim, H', W')\n",
    "        out = out.permute(0, 2, 3, 1)  # (B*T, H', W', hidden_dim)\n",
    "\n",
    "        out = self.fc1(out)  # (B*T, H', W', hidden_ff)\n",
    "        out = self.relu2(out)  # (B*T, H', W', hidden_ff)\n",
    "        out = self.fc2(out)  # (B*T, H', W', out_dim)\n",
    "\n",
    "        _BT, H_prime, W_prime, C_out = out.shape\n",
    "        out = out.contiguous().view(B, T, H_prime, W_prime, C_out)  # (B, T, H', W', out_dim)\n",
    "        return out\n",
    "\n",
    "encoder = SingleConvNeuralNet(\n",
    "    1,\n",
    "    EMBED_DIM,\n",
    "    EMBED_DIM,\n",
    "    K=[X_COMPRESSION, Y_COMPRESSION],\n",
    "    S=[X_COMPRESSION, Y_COMPRESSION]\n",
    ")\n",
    "\n",
    "decoder = MLP(\n",
    "    in_channels=Nx_*Ny_*(EMBED_DIM),\n",
    "    hidden_channels=[64, 256, Nx*Ny*Q],\n",
    "    activation_layer=nn.ELU,\n",
    ")"
   ]
  },
  {
   "cell_type": "code",
   "execution_count": 7,
   "metadata": {},
   "outputs": [],
   "source": [
    "# In this example, we use the positional encoding from https://arxiv.org/abs/1706.03762. This is\n",
    "# an unnatural choice for this dataset, but it is the classic choice for language models.\n",
    "class PositionalEncoding(nn.Module):\n",
    "    def __init__(self, d_model, max_len=10000):\n",
    "        super().__init__()\n",
    "        pe = torch.zeros(max_len, d_model)\n",
    "        position = torch.arange(0, max_len).unsqueeze(1)\n",
    "        div_term = torch.exp(torch.arange(0, d_model, 2) * (-math.log(10000.0) / d_model))\n",
    "        pe[:, 0::2] = torch.sin(position * div_term)\n",
    "        pe[:, 1::2] = torch.cos(position * div_term)\n",
    "        self.register_buffer(\"pe\", pe.unsqueeze(0))  # (1, max_len, d_model)\n",
    "    def forward(self, x):\n",
    "        return x + self.pe[:, : x.size(1)]"
   ]
  },
  {
   "cell_type": "code",
   "execution_count": 8,
   "metadata": {},
   "outputs": [],
   "source": [
    "pos_enc = PositionalEncoding(EMBED_DIM, max_len=T*Nx*Ny)\n",
    "\n",
    "baseline_layer = nn.TransformerEncoderLayer(d_model=EMBED_DIM,\n",
    "                                            nhead=NUM_HEADS,\n",
    "                                            dim_feedforward=DIM_FEEDFORWARD,\n",
    "                                            batch_first=True)\n",
    "baseline_model = nn.TransformerEncoder(baseline_layer, num_layers=NUM_LAYERS)\n",
    "\n",
    "cumulative_layer = CumulativeTransformerEncoderLayerKV(d_model=EMBED_DIM,\n",
    "                                                       nhead=NUM_HEADS,\n",
    "                                                       dim_feedforward=DIM_FEEDFORWARD,\n",
    "                                                       batch_first=True)\n",
    "cumulative_model = CumulativeTransformerEncoderKV(cumulative_layer, num_layers=NUM_LAYERS)\n",
    "\n",
    "# Compose the encoder, positional encoding, transformer, and decoder into a single module.\n",
    "class Pipeline(nn.Module):\n",
    "    def __init__(self, encoder, decoder, pos_enc, transformer, mask):\n",
    "        super().__init__()\n",
    "        self.encoder = encoder\n",
    "        self.decoder = decoder\n",
    "        self.pos_enc = pos_enc\n",
    "        self.transformer = transformer\n",
    "        self.mask = mask\n",
    "\n",
    "    def forward(self, x):\n",
    "        B, T, _, _, _ = x.shape\n",
    "        y = self.encoder(x)\n",
    "        y = y.flatten(1, 3)\n",
    "        y = self.pos_enc(y)\n",
    "        y = self.transformer(y, mask=self.mask)\n",
    "        y = y.reshape(B, T, -1)\n",
    "        y = self.decoder(y)\n",
    "        return y.reshape_as(x)\n",
    "\n",
    "baseline_pipeline = Pipeline(encoder, decoder, pos_enc, baseline_model, dense_mask).to(device)\n",
    "cumulative_pipeline = Pipeline(encoder, decoder, pos_enc, cumulative_model, mask_after).to(device)"
   ]
  },
  {
   "cell_type": "code",
   "execution_count": 9,
   "metadata": {},
   "outputs": [
    {
     "name": "stdout",
     "output_type": "stream",
     "text": [
      "baseline   | epoch 1/3 | train 1.489e-01 | val 4.773e-02 | 16.30s | mem 5351.1MB\n",
      "baseline   | epoch 2/3 | train 4.111e-02 | val 3.658e-02 | 16.21s | mem 5351.1MB\n",
      "baseline   | epoch 3/3 | train 3.350e-02 | val 3.129e-02 | 16.37s | mem 5351.1MB\n",
      "cumulative | epoch 1/3 | train 5.439e-02 | val 3.721e-02 | 11.27s | mem 4942.3MB\n",
      "cumulative | epoch 2/3 | train 3.252e-02 | val 3.547e-02 | 11.24s | mem 4942.3MB\n",
      "cumulative | epoch 3/3 | train 2.898e-02 | val 2.785e-02 | 11.25s | mem 4942.3MB\n"
     ]
    }
   ],
   "source": [
    "def train_epoch(model, loader, optimizer, criterion):\n",
    "    model.train()\n",
    "    start = time.time()\n",
    "    running = 0.0\n",
    "    for traj in loader:\n",
    "        optimizer.zero_grad()\n",
    "        pred = model(traj[:, :-1])\n",
    "        loss = criterion(pred, traj[:, 1:])\n",
    "        loss.backward()\n",
    "        optimizer.step()\n",
    "        running += loss.item() * traj.size(0)\n",
    "    elapsed = time.time() - start\n",
    "    return running / len(loader.dataset), elapsed\n",
    "\n",
    "@torch.no_grad()\n",
    "def evaluate(model, loader, criterion):\n",
    "    model.eval()\n",
    "    running = 0.0\n",
    "    for traj in loader:\n",
    "        pred = model(traj[:, :-1])\n",
    "        loss = criterion(pred, traj[:, 1:])\n",
    "        running += loss.item() * traj.size(0)\n",
    "    return running / len(loader.dataset)\n",
    "\n",
    "def peak_mem():\n",
    "    if device.type == \"cuda\":\n",
    "        torch.cuda.synchronize()\n",
    "        m = torch.cuda.max_memory_allocated() / 1024**2\n",
    "        torch.cuda.reset_peak_memory_stats()\n",
    "        return m\n",
    "    return 0.0\n",
    "\n",
    "EPOCHS = 3\n",
    "criterion = nn.MSELoss()\n",
    "\n",
    "results = {}\n",
    "for name, model in [(\"baseline\", baseline_pipeline), (\"cumulative\", cumulative_pipeline)]:\n",
    "    optimizer = torch.optim.Adam(model.parameters(), lr=1e-3)\n",
    "    hist = {\"train\": [], \"val\": [], \"time\": [], \"mem\": []}\n",
    "    for ep in range(1, EPOCHS+1):\n",
    "        train_loss, t = train_epoch(model, train_loader, optimizer, criterion)\n",
    "        val_loss = evaluate(model, val_loader, criterion)\n",
    "        mem = peak_mem()\n",
    "        hist[\"train\"].append(train_loss)\n",
    "        hist[\"val\"].append(val_loss)\n",
    "        hist[\"time\"].append(t)\n",
    "        hist[\"mem\"].append(mem)\n",
    "        print(f\"{name:10s} | epoch {ep}/{EPOCHS} | train {train_loss:.3e} | val {val_loss:.3e} | {t:.2f}s | mem {mem:.1f}MB\")\n",
    "    results[name] = hist\n",
    "    if device.type == \"cuda\":\n",
    "        torch.cuda.empty_cache(); gc.collect()"
   ]
  },
  {
   "cell_type": "code",
   "execution_count": 10,
   "metadata": {},
   "outputs": [
    {
     "name": "stdout",
     "output_type": "stream",
     "text": [
      "            train_loss  val_loss  time/epoch (s)  peak_mem (MB)\n",
      "baseline      0.033503  0.031291       16.292260    5351.072266\n",
      "cumulative    0.028984  0.027846       11.251852    4942.274414\n"
     ]
    }
   ],
   "source": [
    "summary = pd.DataFrame.from_dict({\n",
    "    k: {\n",
    "        \"train_loss\": min(v[\"train\"]),\n",
    "        \"val_loss\": min(v[\"val\"]),\n",
    "        \"time/epoch (s)\": np.mean(v[\"time\"]),\n",
    "        \"peak_mem (MB)\": max(v[\"mem\"]),\n",
    "    } for k, v in results.items()\n",
    "}, orient=\"index\")\n",
    "print(summary)"
   ]
  },
  {
   "cell_type": "code",
   "execution_count": null,
   "metadata": {},
   "outputs": [],
   "source": []
  }
 ],
 "metadata": {
  "kernelspec": {
   "display_name": "Python 3",
   "language": "python",
   "name": "python3"
  },
  "language_info": {
   "codemirror_mode": {
    "name": "ipython",
    "version": 3
   },
   "file_extension": ".py",
   "mimetype": "text/x-python",
   "name": "python",
   "nbconvert_exporter": "python",
   "pygments_lexer": "ipython3",
   "version": "3.13.5"
  }
 },
 "nbformat": 4,
 "nbformat_minor": 2
}
